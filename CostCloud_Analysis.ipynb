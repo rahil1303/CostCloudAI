{
 "cells": [
  {
   "cell_type": "code",
   "execution_count": null,
   "metadata": {},
   "outputs": [],
   "source": [
    "# CostCloud_Analysis.ipynb\n",
    "\n",
    "import pandas as pd\n",
    "import matplotlib.pyplot as plt\n",
    "\n",
    "# Load the data\n",
    "data_path = '../data/cloud_costs.csv'\n",
    "cloud_data = pd.read_csv(data_path)\n",
    "\n",
    "# Basic analysis\n",
    "print(\"Cloud Data Summary:\")\n",
    "print(cloud_data.describe())\n",
    "\n",
    "# Group by cloud provider and compute average cost\n",
    "avg_cost = cloud_data.groupby('CloudProvider').mean()\n",
    "print(\"\\nAverage Cost per Cloud Provider:\")\n",
    "print(avg_cost)\n",
    "\n",
    "# Plotting the cost comparison\n",
    "avg_cost['CostPerHour'].plot(kind='bar')\n",
    "plt.title('Average Cost Per Hour by Cloud Provider')\n",
    "plt.xlabel('Cloud Provider')\n",
    "plt.ylabel('Cost Per Hour ($)')\n",
    "plt.show()\n",
    "\n",
    "# Calculate efficiency-weighted cost\n",
    "cloud_data['EfficiencyWeightedCost'] = cloud_data['CostPerHour'] / cloud_data['AIModelEfficiency']\n",
    "best_option = cloud_data.loc[cloud_data['EfficiencyWeightedCost'].idxmin()]\n",
    "\n",
    "print(\"\\nBest Cloud Provider Option Based on Efficiency-Weighted Cost:\")\n",
    "print(best_option)\n"
   ]
  }
 ],
 "metadata": {
  "language_info": {
   "name": "python"
  },
  "orig_nbformat": 4
 },
 "nbformat": 4,
 "nbformat_minor": 2
}
